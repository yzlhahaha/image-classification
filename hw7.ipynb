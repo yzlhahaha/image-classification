{
 "cells": [
  {
   "cell_type": "code",
   "execution_count": 1,
   "metadata": {},
   "outputs": [],
   "source": [
    "import matplotlib.pyplot as plt\n",
    "import tensorflow as tf\n",
    "from tensorflow import keras\n",
    "from tensorflow.keras import layers\n",
    "from tensorflow.keras.models import Sequential"
   ]
  },
  {
   "cell_type": "code",
   "execution_count": 2,
   "metadata": {},
   "outputs": [],
   "source": [
    "# Load in training and testing dataset\n",
    "data_dir_train = 'insects/train'\n",
    "data_dir_test = 'insects/test'"
   ]
  },
  {
   "cell_type": "code",
   "execution_count": 3,
   "metadata": {},
   "outputs": [],
   "source": [
    "# Define constants\n",
    "batch_size = 32\n",
    "img_height = 180\n",
    "img_width = 180"
   ]
  },
  {
   "cell_type": "code",
   "execution_count": 4,
   "metadata": {},
   "outputs": [
    {
     "name": "stdout",
     "output_type": "stream",
     "text": [
      "Found 1019 files belonging to 3 classes.\n"
     ]
    }
   ],
   "source": [
    "# Use keras to read in training images\n",
    "train_ds = tf.keras.preprocessing.image_dataset_from_directory(\n",
    "  data_dir_train,\n",
    "  seed=123,\n",
    "  image_size=(img_height, img_width),\n",
    "  batch_size=batch_size)"
   ]
  },
  {
   "cell_type": "code",
   "execution_count": 5,
   "metadata": {},
   "outputs": [
    {
     "name": "stdout",
     "output_type": "stream",
     "text": [
      "Found 180 files belonging to 3 classes.\n"
     ]
    }
   ],
   "source": [
    "# Use keras to read in testing images\n",
    "val_ds = tf.keras.preprocessing.image_dataset_from_directory(\n",
    "  data_dir_test,\n",
    "  seed=123,\n",
    "  image_size=(img_height, img_width),\n",
    "  batch_size=batch_size)"
   ]
  },
  {
   "cell_type": "code",
   "execution_count": 6,
   "metadata": {},
   "outputs": [
    {
     "name": "stdout",
     "output_type": "stream",
     "text": [
      "['beetles', 'cockroach', 'dragonflies']\n"
     ]
    }
   ],
   "source": [
    "# Class names\n",
    "class_names = train_ds.class_names\n",
    "print(class_names)"
   ]
  },
  {
   "cell_type": "code",
   "execution_count": 7,
   "metadata": {},
   "outputs": [
    {
     "name": "stdout",
     "output_type": "stream",
     "text": [
      "(32, 180, 180, 3)\n",
      "(32,)\n"
     ]
    }
   ],
   "source": [
    "for image_batch, labels_batch in train_ds:\n",
    "    print(image_batch.shape)\n",
    "    print(labels_batch.shape)\n",
    "    break"
   ]
  },
  {
   "cell_type": "code",
   "execution_count": 8,
   "metadata": {},
   "outputs": [],
   "source": [
    "tf.random.set_seed(42)"
   ]
  },
  {
   "cell_type": "code",
   "execution_count": 9,
   "metadata": {},
   "outputs": [],
   "source": [
    "# Build the sequential model with Keras\n",
    "num_classes = 3\n",
    "\n",
    "data_augmentation = keras.Sequential(\n",
    "  [\n",
    "    layers.experimental.preprocessing.RandomFlip(\"horizontal\", \n",
    "                                                 input_shape=(img_height, \n",
    "                                                              img_width,\n",
    "                                                              3)),\n",
    "    layers.experimental.preprocessing.RandomRotation(0.1),\n",
    "    layers.experimental.preprocessing.RandomZoom(0.1),\n",
    "  ]\n",
    ")\n",
    "\n",
    "model = Sequential([\n",
    "  data_augmentation,\n",
    "  layers.experimental.preprocessing.Rescaling(1./255),\n",
    "  layers.Conv2D(16, 3, padding='same', activation='relu'),\n",
    "  layers.MaxPooling2D(),\n",
    "  layers.Conv2D(32, 3, padding='same', activation='relu'),\n",
    "  layers.MaxPooling2D(),\n",
    "  layers.Conv2D(64, 3, padding='same', activation='relu'),\n",
    "  layers.MaxPooling2D(),\n",
    "  layers.Dropout(0.2),\n",
    "  layers.Flatten(),\n",
    "  layers.Dense(128, activation='relu'),\n",
    "  layers.Dense(num_classes, activation='softmax')\n",
    "])"
   ]
  },
  {
   "cell_type": "code",
   "execution_count": 10,
   "metadata": {},
   "outputs": [],
   "source": [
    "model.compile(optimizer='adam',\n",
    "              loss='sparse_categorical_crossentropy',\n",
    "              metrics=['accuracy'])"
   ]
  },
  {
   "cell_type": "code",
   "execution_count": 11,
   "metadata": {},
   "outputs": [
    {
     "name": "stdout",
     "output_type": "stream",
     "text": [
      "Model: \"sequential_1\"\n",
      "_________________________________________________________________\n",
      "Layer (type)                 Output Shape              Param #   \n",
      "=================================================================\n",
      "sequential (Sequential)      (None, 180, 180, 3)       0         \n",
      "_________________________________________________________________\n",
      "rescaling (Rescaling)        (None, 180, 180, 3)       0         \n",
      "_________________________________________________________________\n",
      "conv2d (Conv2D)              (None, 180, 180, 16)      448       \n",
      "_________________________________________________________________\n",
      "max_pooling2d (MaxPooling2D) (None, 90, 90, 16)        0         \n",
      "_________________________________________________________________\n",
      "conv2d_1 (Conv2D)            (None, 90, 90, 32)        4640      \n",
      "_________________________________________________________________\n",
      "max_pooling2d_1 (MaxPooling2 (None, 45, 45, 32)        0         \n",
      "_________________________________________________________________\n",
      "conv2d_2 (Conv2D)            (None, 45, 45, 64)        18496     \n",
      "_________________________________________________________________\n",
      "max_pooling2d_2 (MaxPooling2 (None, 22, 22, 64)        0         \n",
      "_________________________________________________________________\n",
      "dropout (Dropout)            (None, 22, 22, 64)        0         \n",
      "_________________________________________________________________\n",
      "flatten (Flatten)            (None, 30976)             0         \n",
      "_________________________________________________________________\n",
      "dense (Dense)                (None, 128)               3965056   \n",
      "_________________________________________________________________\n",
      "dense_1 (Dense)              (None, 3)                 387       \n",
      "=================================================================\n",
      "Total params: 3,989,027\n",
      "Trainable params: 3,989,027\n",
      "Non-trainable params: 0\n",
      "_________________________________________________________________\n"
     ]
    }
   ],
   "source": [
    "model.summary()"
   ]
  },
  {
   "cell_type": "code",
   "execution_count": 12,
   "metadata": {},
   "outputs": [
    {
     "name": "stdout",
     "output_type": "stream",
     "text": [
      "Epoch 1/30\n",
      "WARNING:tensorflow:AutoGraph could not transform <function Model.make_train_function.<locals>.train_function at 0x7fd4b68293b0> and will run it as-is.\n",
      "Please report this to the TensorFlow team. When filing the bug, set the verbosity to 10 (on Linux, `export AUTOGRAPH_VERBOSITY=10`) and attach the full output.\n",
      "Cause: 'arguments' object has no attribute 'posonlyargs'\n",
      "To silence this warning, decorate the function with @tf.autograph.experimental.do_not_convert\n",
      "WARNING: AutoGraph could not transform <function Model.make_train_function.<locals>.train_function at 0x7fd4b68293b0> and will run it as-is.\n",
      "Please report this to the TensorFlow team. When filing the bug, set the verbosity to 10 (on Linux, `export AUTOGRAPH_VERBOSITY=10`) and attach the full output.\n",
      "Cause: 'arguments' object has no attribute 'posonlyargs'\n",
      "To silence this warning, decorate the function with @tf.autograph.experimental.do_not_convert\n",
      "32/32 [==============================] - ETA: 0s - loss: 0.9671 - accuracy: 0.5849WARNING:tensorflow:AutoGraph could not transform <function Model.make_test_function.<locals>.test_function at 0x7fd49d423050> and will run it as-is.\n",
      "Please report this to the TensorFlow team. When filing the bug, set the verbosity to 10 (on Linux, `export AUTOGRAPH_VERBOSITY=10`) and attach the full output.\n",
      "Cause: 'arguments' object has no attribute 'posonlyargs'\n",
      "To silence this warning, decorate the function with @tf.autograph.experimental.do_not_convert\n",
      "WARNING: AutoGraph could not transform <function Model.make_test_function.<locals>.test_function at 0x7fd49d423050> and will run it as-is.\n",
      "Please report this to the TensorFlow team. When filing the bug, set the verbosity to 10 (on Linux, `export AUTOGRAPH_VERBOSITY=10`) and attach the full output.\n",
      "Cause: 'arguments' object has no attribute 'posonlyargs'\n",
      "To silence this warning, decorate the function with @tf.autograph.experimental.do_not_convert\n",
      "32/32 [==============================] - 25s 772ms/step - loss: 0.9671 - accuracy: 0.5849 - val_loss: 0.9240 - val_accuracy: 0.5889\n",
      "Epoch 2/30\n",
      "32/32 [==============================] - 27s 833ms/step - loss: 0.5918 - accuracy: 0.7655 - val_loss: 0.7053 - val_accuracy: 0.7444\n",
      "Epoch 3/30\n",
      "32/32 [==============================] - 27s 856ms/step - loss: 0.4914 - accuracy: 0.8116 - val_loss: 0.6637 - val_accuracy: 0.7611\n",
      "Epoch 4/30\n",
      "32/32 [==============================] - 28s 865ms/step - loss: 0.4643 - accuracy: 0.8292 - val_loss: 0.6017 - val_accuracy: 0.7889\n",
      "Epoch 5/30\n",
      "32/32 [==============================] - 28s 861ms/step - loss: 0.4087 - accuracy: 0.8577 - val_loss: 0.5245 - val_accuracy: 0.8222\n",
      "Epoch 6/30\n",
      "32/32 [==============================] - 27s 859ms/step - loss: 0.4178 - accuracy: 0.8459 - val_loss: 0.5320 - val_accuracy: 0.8333\n",
      "Epoch 7/30\n",
      "32/32 [==============================] - 27s 851ms/step - loss: 0.3709 - accuracy: 0.8714 - val_loss: 0.4516 - val_accuracy: 0.8333\n",
      "Epoch 8/30\n",
      "32/32 [==============================] - 27s 849ms/step - loss: 0.3737 - accuracy: 0.8656 - val_loss: 0.5599 - val_accuracy: 0.7889\n",
      "Epoch 9/30\n",
      "32/32 [==============================] - 27s 851ms/step - loss: 0.3588 - accuracy: 0.8656 - val_loss: 0.3987 - val_accuracy: 0.8667\n",
      "Epoch 10/30\n",
      "32/32 [==============================] - 27s 851ms/step - loss: 0.3202 - accuracy: 0.8773 - val_loss: 0.3554 - val_accuracy: 0.8500\n",
      "Epoch 11/30\n",
      "32/32 [==============================] - 27s 849ms/step - loss: 0.3163 - accuracy: 0.8744 - val_loss: 0.4271 - val_accuracy: 0.8333\n",
      "Epoch 12/30\n",
      "32/32 [==============================] - 27s 837ms/step - loss: 0.3075 - accuracy: 0.8754 - val_loss: 0.3390 - val_accuracy: 0.8556\n",
      "Epoch 13/30\n",
      "32/32 [==============================] - 27s 831ms/step - loss: 0.2899 - accuracy: 0.8881 - val_loss: 0.4472 - val_accuracy: 0.8722\n",
      "Epoch 14/30\n",
      "32/32 [==============================] - 27s 838ms/step - loss: 0.3125 - accuracy: 0.8783 - val_loss: 0.3041 - val_accuracy: 0.8944\n",
      "Epoch 15/30\n",
      "32/32 [==============================] - 26s 827ms/step - loss: 0.2686 - accuracy: 0.9028 - val_loss: 0.2669 - val_accuracy: 0.9000\n",
      "Epoch 16/30\n",
      "32/32 [==============================] - 27s 832ms/step - loss: 0.2733 - accuracy: 0.8921 - val_loss: 0.4183 - val_accuracy: 0.8278\n",
      "Epoch 17/30\n",
      "32/32 [==============================] - 26s 824ms/step - loss: 0.3098 - accuracy: 0.8724 - val_loss: 0.3708 - val_accuracy: 0.8333\n",
      "Epoch 18/30\n",
      "32/32 [==============================] - 27s 835ms/step - loss: 0.2654 - accuracy: 0.8989 - val_loss: 0.2985 - val_accuracy: 0.8889\n",
      "Epoch 19/30\n",
      "32/32 [==============================] - 26s 825ms/step - loss: 0.2197 - accuracy: 0.9107 - val_loss: 0.3196 - val_accuracy: 0.9111\n",
      "Epoch 20/30\n",
      "32/32 [==============================] - 26s 825ms/step - loss: 0.2205 - accuracy: 0.9146 - val_loss: 0.2167 - val_accuracy: 0.8889\n",
      "Epoch 21/30\n",
      "32/32 [==============================] - 27s 834ms/step - loss: 0.2236 - accuracy: 0.9185 - val_loss: 0.2243 - val_accuracy: 0.9111\n",
      "Epoch 22/30\n",
      "32/32 [==============================] - 27s 829ms/step - loss: 0.1917 - accuracy: 0.9323 - val_loss: 0.2320 - val_accuracy: 0.9056\n",
      "Epoch 23/30\n",
      "32/32 [==============================] - 27s 838ms/step - loss: 0.2101 - accuracy: 0.9215 - val_loss: 0.2422 - val_accuracy: 0.8944\n",
      "Epoch 24/30\n",
      "32/32 [==============================] - 26s 827ms/step - loss: 0.2026 - accuracy: 0.9146 - val_loss: 0.2061 - val_accuracy: 0.9111\n",
      "Epoch 25/30\n",
      "32/32 [==============================] - 26s 826ms/step - loss: 0.1772 - accuracy: 0.9323 - val_loss: 0.1957 - val_accuracy: 0.9056\n",
      "Epoch 26/30\n",
      "32/32 [==============================] - 27s 833ms/step - loss: 0.1632 - accuracy: 0.9293 - val_loss: 0.2055 - val_accuracy: 0.9056\n",
      "Epoch 27/30\n",
      "32/32 [==============================] - 27s 829ms/step - loss: 0.1368 - accuracy: 0.9450 - val_loss: 0.1111 - val_accuracy: 0.9389\n",
      "Epoch 28/30\n",
      "32/32 [==============================] - 27s 833ms/step - loss: 0.1539 - accuracy: 0.9401 - val_loss: 0.0810 - val_accuracy: 0.9833\n",
      "Epoch 29/30\n",
      "32/32 [==============================] - 27s 839ms/step - loss: 0.1607 - accuracy: 0.9382 - val_loss: 0.1447 - val_accuracy: 0.9444\n",
      "Epoch 30/30\n",
      "32/32 [==============================] - 27s 858ms/step - loss: 0.1553 - accuracy: 0.9460 - val_loss: 0.2055 - val_accuracy: 0.9222\n"
     ]
    }
   ],
   "source": [
    "# Training model\n",
    "history = model.fit(\n",
    "    train_ds,\n",
    "    validation_data=val_ds,\n",
    "    epochs=30\n",
    ")"
   ]
  },
  {
   "cell_type": "code",
   "execution_count": 13,
   "metadata": {},
   "outputs": [
    {
     "data": {
      "image/png": "[encoded data removed]",
      "text/plain": [
       "<Figure size 864x288 with 2 Axes>"
      ]
     },
     "metadata": {
      "needs_background": "light"
     },
     "output_type": "display_data"
    }
   ],
   "source": [
    "# Visualization of the results\n",
    "fig, axes = plt.subplots(1,2,figsize=(12, 4))\n",
    "for ax, measure in zip(axes, ['loss', 'accuracy']):\n",
    "    ax.plot(history.history[measure], label=measure)\n",
    "    ax.plot(history.history['val_' + measure], label='val_' + measure)\n",
    "    ax.legend()\n",
    "pass"
   ]
  },
  {
   "cell_type": "code",
   "execution_count": 22,
   "metadata": {},
   "outputs": [],
   "source": [
    "import numpy as np"
   ]
  },
  {
   "cell_type": "code",
   "execution_count": 21,
   "metadata": {},
   "outputs": [],
   "source": [
    "test_image = 'dragonfly.jpg'"
   ]
  },
  {
   "cell_type": "code",
   "execution_count": 17,
   "metadata": {},
   "outputs": [],
   "source": [
    "img = keras.preprocessing.image.load_img(\n",
    "    test_image, target_size=(img_height, img_width)\n",
    ")"
   ]
  },
  {
   "cell_type": "code",
   "execution_count": 18,
   "metadata": {},
   "outputs": [],
   "source": [
    "img_array = keras.preprocessing.image.img_to_array(img)\n",
    "img_array = tf.expand_dims(img_array, 0) # Create a batch"
   ]
  },
  {
   "cell_type": "code",
   "execution_count": 19,
   "metadata": {},
   "outputs": [
    {
     "name": "stdout",
     "output_type": "stream",
     "text": [
      "WARNING:tensorflow:AutoGraph could not transform <function Model.make_predict_function.<locals>.predict_function at 0x7fd47169ca70> and will run it as-is.\n",
      "Please report this to the TensorFlow team. When filing the bug, set the verbosity to 10 (on Linux, `export AUTOGRAPH_VERBOSITY=10`) and attach the full output.\n",
      "Cause: 'arguments' object has no attribute 'posonlyargs'\n",
      "To silence this warning, decorate the function with @tf.autograph.experimental.do_not_convert\n",
      "WARNING: AutoGraph could not transform <function Model.make_predict_function.<locals>.predict_function at 0x7fd47169ca70> and will run it as-is.\n",
      "Please report this to the TensorFlow team. When filing the bug, set the verbosity to 10 (on Linux, `export AUTOGRAPH_VERBOSITY=10`) and attach the full output.\n",
      "Cause: 'arguments' object has no attribute 'posonlyargs'\n",
      "To silence this warning, decorate the function with @tf.autograph.experimental.do_not_convert\n"
     ]
    }
   ],
   "source": [
    "predictions = model.predict(img_array)\n",
    "score = tf.nn.softmax(predictions[0])"
   ]
  },
  {
   "cell_type": "code",
   "execution_count": 23,
   "metadata": {},
   "outputs": [
    {
     "name": "stdout",
     "output_type": "stream",
     "text": [
      "This image most likely belongs to dragonflies with a 57.36 percent confidence.\n"
     ]
    }
   ],
   "source": [
    "print(\n",
    "    \"This image most likely belongs to {} with a {:.2f} percent confidence.\"\n",
    "    .format(class_names[np.argmax(score)], 100 * np.max(score))\n",
    ")"
   ]
  },
  {
   "cell_type": "code",
   "execution_count": null,
   "metadata": {},
   "outputs": [],
   "source": []
  }
 ],
 "metadata": {
  "kernelspec": {
   "display_name": "Python 3",
   "language": "python",
   "name": "python3"
  },
  "language_info": {
   "codemirror_mode": {
    "name": "ipython",
    "version": 3
   },
   "file_extension": ".py",
   "mimetype": "text/x-python",
   "name": "python",
   "nbconvert_exporter": "python",
   "pygments_lexer": "ipython3",
   "version": "3.7.6"
  }
 },
 "nbformat": 4,
 "nbformat_minor": 4
}
